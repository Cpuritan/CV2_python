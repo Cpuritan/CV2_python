{
 "cells": [
  {
   "cell_type": "code",
   "execution_count": 1,
   "metadata": {},
   "outputs": [],
   "source": [
    "import cv2\n",
    "import numpy as np\n",
    "import pandas as pd\n",
    "import matplotlib.pyplot as plt"
   ]
  },
  {
   "cell_type": "code",
   "execution_count": null,
   "metadata": {},
   "outputs": [],
   "source": [
    "img = cv2.imread(r'./blue-peacock.jpg')\n",
    "#展示图片\n",
    "img_bgr=img\n",
    "\n",
    "plt.figure(dpi=100)\n",
    "plt.subplot(1,3,1)\n",
    "plt.title(\"BGR\")\n",
    "plt.imshow(img_bgr)\n",
    "plt.axis('off');\n",
    "\n",
    "\n",
    "plt.subplot(1,3,2)\n",
    "img_gray = cv2.cvtColor(img,cv2.COLOR_BGR2GRAY)\n",
    "plt.imshow(img_gray)\n",
    "plt.title(\"GRAY\")\n",
    "plt.axis('off')\n",
    "\n",
    "\n",
    "plt.subplot(1,3,3)\n",
    "img_rgb = cv2.cvtColor(img,cv2.COLOR_BGR2RGB) #转换方式\n",
    "plt.imshow(img_rgb)\n",
    "plt.title(\"RGB\")\n",
    "plt.axis('off'); #不显示坐标轴"
   ]
  },
  {
   "cell_type": "code",
   "execution_count": null,
   "metadata": {},
   "outputs": [],
   "source": [
    "guas = cv2.GaussianBlur(img_rgb,(3,3),0)\n",
    "#两种经典算子：拉普拉斯与索贝尔\n",
    "laplacian = cv2.Laplacian(guas,-1,ksize=3)\n",
    "#cv2.CV_64F是opencv中常常使用的一种数据格式,在这里输入之后可以保证输出数据是uint8类型\n",
    "sobelx = cv2.Sobel(guas,-1,1,0,ksize=3) #横向\n",
    "sobely = cv2.Sobel(guas,-1,0,1,ksize=3) #纵向\n",
    "\n",
    "plt.figure(dpi=300)\n",
    "plt.subplot(2,2,1)\n",
    "plt.imshow(img_gray)\n",
    "plt.title('Gray')\n",
    "plt.axis('off')\n",
    "plt.subplot(2,2,2)\n",
    "laplacian = cv2.convertScaleAbs(laplacian)\n",
    "plt.imshow(laplacian)\n",
    "plt.title('Laplacian')\n",
    "plt.axis('off')\n",
    "plt.subplot(2,2,3)\n",
    "sobelx = cv2.convertScaleAbs(sobelx)\n",
    "plt.imshow(sobelx)\n",
    "plt.title('Sobel X')\n",
    "plt.axis('off')\n",
    "plt.subplot(2,2,4)\n",
    "plt.imshow(sobely)\n",
    "sobely = cv2.convertScaleAbs(sobely)\n",
    "plt.title('Sobel Y')\n",
    "plt.axis('off')"
   ]
  },
  {
   "cell_type": "code",
   "execution_count": null,
   "metadata": {},
   "outputs": [],
   "source": [
    "plt.figure(dpi=150)\n",
    "sobel_ = cv2.addWeighted(sobelx,0.5,sobely,0.5,0)\n",
    "plt.imshow(sobel_)\n",
    "plt.title('Sobel')\n",
    "plt.axis('off')"
   ]
  },
  {
   "cell_type": "code",
   "execution_count": null,
   "metadata": {},
   "outputs": [],
   "source": [
    "plt.figure(dpi=150)\n",
    "plt.subplot(1,2,1)\n",
    "guas = cv2.GaussianBlur(img_rgb,(3,3),0)\n",
    "img_edge = cv2.Canny(guas,100,200)\n",
    "plt.imshow(img_edge)\n",
    "plt.axis('off')\n",
    "\n",
    "plt.subplot(1,2,2)\n",
    "edge_src = cv2.bitwise_and(img_rgb,img_rgb,mask=img_edge)\n",
    "plt.imshow(edge_src)\n",
    "plt.axis('off')"
   ]
  },
  {
   "cell_type": "code",
   "execution_count": null,
   "metadata": {},
   "outputs": [],
   "source": [
    "plt.figure(dpi=150)\n",
    "h,w = img_rgb.shape[:2]\n",
    "result = np.zeros([h, w*2, 3], dtype=img_rgb.dtype)\n",
    "result[0:h,0:w,:] = img_rgb\n",
    "result[0:h,w:2*w,:] = edge_src\n",
    "plt.imshow(result)\n",
    "plt.axis('off')"
   ]
  }
 ],
 "metadata": {
  "kernelspec": {
   "display_name": "Python 3 (ipykernel)",
   "language": "python",
   "name": "python3"
  },
  "language_info": {
   "codemirror_mode": {
    "name": "ipython",
    "version": 3
   },
   "file_extension": ".py",
   "mimetype": "text/x-python",
   "name": "python",
   "nbconvert_exporter": "python",
   "pygments_lexer": "ipython3",
   "version": "3.8.5"
  },
  "toc": {
   "base_numbering": 1,
   "nav_menu": {},
   "number_sections": true,
   "sideBar": true,
   "skip_h1_title": false,
   "title_cell": "Table of Contents",
   "title_sidebar": "Contents",
   "toc_cell": false,
   "toc_position": {},
   "toc_section_display": true,
   "toc_window_display": false
  }
 },
 "nbformat": 4,
 "nbformat_minor": 4
}
