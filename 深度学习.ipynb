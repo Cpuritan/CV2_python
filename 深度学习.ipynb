{
 "cells": [
  {
   "cell_type": "code",
   "execution_count": 1,
   "id": "032ada7a",
   "metadata": {
    "ExecuteTime": {
     "end_time": "2021-11-19T04:30:30.999207Z",
     "start_time": "2021-11-19T04:30:30.951770Z"
    }
   },
   "outputs": [],
   "source": [
    "class Person():\n",
    "    def eat(self):\n",
    "        print(self)"
   ]
  },
  {
   "cell_type": "code",
   "execution_count": 5,
   "id": "135c2df2",
   "metadata": {
    "ExecuteTime": {
     "end_time": "2021-11-19T04:31:54.626725Z",
     "start_time": "2021-11-19T04:31:54.624085Z"
    }
   },
   "outputs": [
    {
     "name": "stdout",
     "output_type": "stream",
     "text": [
      "<__main__.Person object at 0x0000023171B37460>\n",
      "<class '__main__.Person'>\n"
     ]
    }
   ],
   "source": [
    "Bob=Person()\n",
    "Bob.eat()\n",
    "print(Person)"
   ]
  },
  {
   "cell_type": "code",
   "execution_count": 3,
   "id": "3c447e84",
   "metadata": {
    "ExecuteTime": {
     "end_time": "2021-11-19T04:31:01.067465Z",
     "start_time": "2021-11-19T04:31:01.053395Z"
    }
   },
   "outputs": [
    {
     "name": "stdout",
     "output_type": "stream",
     "text": [
      "<__main__.Person object at 0x0000023171B37BE0>\n"
     ]
    }
   ],
   "source": [
    "print(Bob)"
   ]
  },
  {
   "cell_type": "code",
   "execution_count": 7,
   "id": "8453c0e5",
   "metadata": {
    "ExecuteTime": {
     "end_time": "2021-11-19T04:33:04.145024Z",
     "start_time": "2021-11-19T04:33:04.133023Z"
    }
   },
   "outputs": [],
   "source": [
    "class Person():\n",
    "    def __init__(self):\n",
    "        print(\"是一个人\")\n",
    "    def eat(self):\n",
    "        print(\"要吃饭\" )"
   ]
  },
  {
   "cell_type": "code",
   "execution_count": 8,
   "id": "c87625a7",
   "metadata": {
    "ExecuteTime": {
     "end_time": "2021-11-19T04:33:38.751593Z",
     "start_time": "2021-11-19T04:33:38.731648Z"
    }
   },
   "outputs": [
    {
     "name": "stdout",
     "output_type": "stream",
     "text": [
      "是一个人\n"
     ]
    }
   ],
   "source": [
    "Bob1=Person()"
   ]
  },
  {
   "cell_type": "code",
   "execution_count": 9,
   "id": "b8aa6d40",
   "metadata": {
    "ExecuteTime": {
     "end_time": "2021-11-19T04:33:56.364273Z",
     "start_time": "2021-11-19T04:33:56.353893Z"
    }
   },
   "outputs": [
    {
     "name": "stdout",
     "output_type": "stream",
     "text": [
      "要吃饭\n"
     ]
    }
   ],
   "source": [
    "Bob1.eat()"
   ]
  },
  {
   "cell_type": "code",
   "execution_count": 10,
   "id": "2bf3f7f2",
   "metadata": {
    "ExecuteTime": {
     "end_time": "2021-11-19T04:35:22.074363Z",
     "start_time": "2021-11-19T04:35:22.060439Z"
    }
   },
   "outputs": [],
   "source": [
    "class Person():\n",
    "    def __init__(self,name):\n",
    "        print(\"是一个人\")\n",
    "        self.name=name\n",
    "    def eat(self):\n",
    "        print(\"%s要吃饭\" %self.name)"
   ]
  },
  {
   "cell_type": "code",
   "execution_count": 15,
   "id": "8de766fe",
   "metadata": {
    "ExecuteTime": {
     "end_time": "2021-11-19T04:36:06.209761Z",
     "start_time": "2021-11-19T04:36:06.197300Z"
    }
   },
   "outputs": [
    {
     "name": "stdout",
     "output_type": "stream",
     "text": [
      "是一个人\n",
      "b要吃饭\n"
     ]
    }
   ],
   "source": [
    "Bob=Person('b')\n",
    "Bob.eat()"
   ]
  },
  {
   "cell_type": "code",
   "execution_count": 19,
   "id": "39aa6329",
   "metadata": {
    "ExecuteTime": {
     "end_time": "2021-11-19T04:39:41.186992Z",
     "start_time": "2021-11-19T04:39:41.180010Z"
    }
   },
   "outputs": [
    {
     "name": "stdout",
     "output_type": "stream",
     "text": [
      "是一个人\n",
      "Bob要吃饭\n",
      "花了12元\n"
     ]
    }
   ],
   "source": [
    "class Person():\n",
    "    def __init__(self,name,money):\n",
    "        print(\"是一个人\")\n",
    "        self.name=name\n",
    "        self.money=money\n",
    "    def eat(self):\n",
    "        print(\"%s要吃饭\" %self.name)\n",
    "        \n",
    "    def qian(self):\n",
    "        print(\"花了%s元\" %self.money)\n",
    "\n",
    "Bob=Person('Bob',12)\n",
    "Bob.eat()\n",
    "Bob.qian()"
   ]
  }
 ],
 "metadata": {
  "kernelspec": {
   "display_name": "Python 3",
   "language": "python",
   "name": "python3"
  },
  "language_info": {
   "codemirror_mode": {
    "name": "ipython",
    "version": 3
   },
   "file_extension": ".py",
   "mimetype": "text/x-python",
   "name": "python",
   "nbconvert_exporter": "python",
   "pygments_lexer": "ipython3",
   "version": "3.8.8"
  },
  "toc": {
   "base_numbering": 1,
   "nav_menu": {},
   "number_sections": true,
   "sideBar": true,
   "skip_h1_title": false,
   "title_cell": "Table of Contents",
   "title_sidebar": "Contents",
   "toc_cell": false,
   "toc_position": {},
   "toc_section_display": true,
   "toc_window_display": false
  }
 },
 "nbformat": 4,
 "nbformat_minor": 5
}